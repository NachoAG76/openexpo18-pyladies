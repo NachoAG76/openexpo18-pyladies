{
 "cells": [
  {
   "cell_type": "markdown",
   "metadata": {},
   "source": [
    "# Py-Píldoras para tratar tu Open Data"
   ]
  },
  {
   "cell_type": "markdown",
   "metadata": {},
   "source": [
    "Material de trabajo de la Py-Píldora para combatir la desorientación: **GEOCODING**"
   ]
  },
  {
   "cell_type": "markdown",
   "metadata": {},
   "source": [
    "### 1. Analizar los datos"
   ]
  },
  {
   "cell_type": "code",
   "execution_count": 4,
   "metadata": {
    "slideshow": {
     "slide_type": "slide"
    }
   },
   "outputs": [
    {
     "data": {
      "text/html": [
       "<div>\n",
       "<style scoped>\n",
       "    .dataframe tbody tr th:only-of-type {\n",
       "        vertical-align: middle;\n",
       "    }\n",
       "\n",
       "    .dataframe tbody tr th {\n",
       "        vertical-align: top;\n",
       "    }\n",
       "\n",
       "    .dataframe thead th {\n",
       "        text-align: right;\n",
       "    }\n",
       "</style>\n",
       "<table border=\"1\" class=\"dataframe\">\n",
       "  <thead>\n",
       "    <tr style=\"text-align: right;\">\n",
       "      <th></th>\n",
       "      <th>CALIFICACION</th>\n",
       "      <th>LUGAR</th>\n",
       "      <th>MES</th>\n",
       "      <th>ANIO</th>\n",
       "      <th>HORA</th>\n",
       "      <th>IMP_BOL</th>\n",
       "      <th>DESCUENTO</th>\n",
       "      <th>PUNTOS</th>\n",
       "      <th>DENUNCIANTE</th>\n",
       "      <th>HECHO-BOL</th>\n",
       "      <th>VEL_LIMITE</th>\n",
       "      <th>VEL_CIRCULA</th>\n",
       "      <th>COORDENADA_X</th>\n",
       "      <th>COORDENADA_Y</th>\n",
       "    </tr>\n",
       "  </thead>\n",
       "  <tbody>\n",
       "    <tr>\n",
       "      <th>0</th>\n",
       "      <td>LEVE</td>\n",
       "      <td>AV MONFORTE DE LEMOS 12</td>\n",
       "      <td>3</td>\n",
       "      <td>2018</td>\n",
       "      <td>9.56</td>\n",
       "      <td>90.0</td>\n",
       "      <td>SI</td>\n",
       "      <td>0</td>\n",
       "      <td>SER</td>\n",
       "      <td>ESTACIONAR, SIN LA CORRESPONDIENTE AUTORIZACIÓ...</td>\n",
       "      <td></td>\n",
       "      <td></td>\n",
       "      <td></td>\n",
       "      <td></td>\n",
       "    </tr>\n",
       "    <tr>\n",
       "      <th>1</th>\n",
       "      <td>GRAVE</td>\n",
       "      <td>AV RAMON Y CAJAL 72</td>\n",
       "      <td>3</td>\n",
       "      <td>2018</td>\n",
       "      <td>11.33</td>\n",
       "      <td>200.0</td>\n",
       "      <td>SI</td>\n",
       "      <td>0</td>\n",
       "      <td>POLICIA MUNICIPAL</td>\n",
       "      <td>ESTACIONAR EN CARRIL RESERVADO PARA USO, PARAD...</td>\n",
       "      <td></td>\n",
       "      <td></td>\n",
       "      <td></td>\n",
       "      <td></td>\n",
       "    </tr>\n",
       "    <tr>\n",
       "      <th>2</th>\n",
       "      <td>GRAVE</td>\n",
       "      <td>SEGOVIA-TOLEDO</td>\n",
       "      <td>3</td>\n",
       "      <td>2018</td>\n",
       "      <td>5.15</td>\n",
       "      <td>200.0</td>\n",
       "      <td>SI</td>\n",
       "      <td>4</td>\n",
       "      <td>POLICIA MUNICIPAL</td>\n",
       "      <td>REBASAR UN SEMÁFORO EN FASE ROJA.             ...</td>\n",
       "      <td></td>\n",
       "      <td></td>\n",
       "      <td></td>\n",
       "      <td></td>\n",
       "    </tr>\n",
       "    <tr>\n",
       "      <th>3</th>\n",
       "      <td>LEVE</td>\n",
       "      <td>AV MONFORTE DE LEMOS 17</td>\n",
       "      <td>3</td>\n",
       "      <td>2018</td>\n",
       "      <td>10.12</td>\n",
       "      <td>90.0</td>\n",
       "      <td>SI</td>\n",
       "      <td>0</td>\n",
       "      <td>SER</td>\n",
       "      <td>ESTACIONAR, SIN LA CORRESPONDIENTE AUTORIZACIÓ...</td>\n",
       "      <td></td>\n",
       "      <td></td>\n",
       "      <td></td>\n",
       "      <td></td>\n",
       "    </tr>\n",
       "    <tr>\n",
       "      <th>4</th>\n",
       "      <td>LEVE</td>\n",
       "      <td>CIUDADANIA 6</td>\n",
       "      <td>3</td>\n",
       "      <td>2018</td>\n",
       "      <td>14.22</td>\n",
       "      <td>90.0</td>\n",
       "      <td>SI</td>\n",
       "      <td>0</td>\n",
       "      <td>POLICIA MUNICIPAL</td>\n",
       "      <td>ESTACIONAR EN LUGAR PROHIBIDO DEBIDAMENTE SEÑA...</td>\n",
       "      <td></td>\n",
       "      <td></td>\n",
       "      <td></td>\n",
       "      <td></td>\n",
       "    </tr>\n",
       "    <tr>\n",
       "      <th>5</th>\n",
       "      <td>LEVE</td>\n",
       "      <td>AV MONFORTE DE LEMOS 8</td>\n",
       "      <td>3</td>\n",
       "      <td>2018</td>\n",
       "      <td>10.18</td>\n",
       "      <td>90.0</td>\n",
       "      <td>SI</td>\n",
       "      <td>0</td>\n",
       "      <td>SER</td>\n",
       "      <td>ESTACIONAR, SIN LA CORRESPONDIENTE AUTORIZACIÓ...</td>\n",
       "      <td></td>\n",
       "      <td></td>\n",
       "      <td></td>\n",
       "      <td></td>\n",
       "    </tr>\n",
       "    <tr>\n",
       "      <th>6</th>\n",
       "      <td>GRAVE</td>\n",
       "      <td>CL MELCHOR FERNANDEZ ALMAGRO 1</td>\n",
       "      <td>3</td>\n",
       "      <td>2018</td>\n",
       "      <td>10.45</td>\n",
       "      <td>200.0</td>\n",
       "      <td>SI</td>\n",
       "      <td>0</td>\n",
       "      <td>SER</td>\n",
       "      <td>ESTACIONAR EN INTERSECCIÓN.                   ...</td>\n",
       "      <td></td>\n",
       "      <td></td>\n",
       "      <td></td>\n",
       "      <td></td>\n",
       "    </tr>\n",
       "    <tr>\n",
       "      <th>7</th>\n",
       "      <td>LEVE</td>\n",
       "      <td>CL POETA JOAN MARAGALL 19 B</td>\n",
       "      <td>3</td>\n",
       "      <td>2018</td>\n",
       "      <td>17.12</td>\n",
       "      <td>30.0</td>\n",
       "      <td>SI</td>\n",
       "      <td>0</td>\n",
       "      <td>SER</td>\n",
       "      <td>ESTACIONAR CON AUTORIZACIÓN EN LUGAR HABILITAD...</td>\n",
       "      <td></td>\n",
       "      <td></td>\n",
       "      <td></td>\n",
       "      <td></td>\n",
       "    </tr>\n",
       "    <tr>\n",
       "      <th>8</th>\n",
       "      <td>LEVE</td>\n",
       "      <td>CL VILLA DE MARIN 23</td>\n",
       "      <td>3</td>\n",
       "      <td>2018</td>\n",
       "      <td>11.11</td>\n",
       "      <td>60.0</td>\n",
       "      <td>SI</td>\n",
       "      <td>0</td>\n",
       "      <td>SER</td>\n",
       "      <td>ESTACIONAR CON AUTORIZACIÓN NO VÁLIDA.        ...</td>\n",
       "      <td></td>\n",
       "      <td></td>\n",
       "      <td></td>\n",
       "      <td></td>\n",
       "    </tr>\n",
       "    <tr>\n",
       "      <th>9</th>\n",
       "      <td>LEVE</td>\n",
       "      <td>CL VILLA DE MARIN 23</td>\n",
       "      <td>3</td>\n",
       "      <td>2018</td>\n",
       "      <td>14.09</td>\n",
       "      <td>90.0</td>\n",
       "      <td>SI</td>\n",
       "      <td>0</td>\n",
       "      <td>SER</td>\n",
       "      <td>ESTACIONAR, SIN LA CORRESPONDIENTE AUTORIZACIÓ...</td>\n",
       "      <td></td>\n",
       "      <td></td>\n",
       "      <td></td>\n",
       "      <td></td>\n",
       "    </tr>\n",
       "  </tbody>\n",
       "</table>\n",
       "</div>"
      ],
      "text/plain": [
       "  CALIFICACION                                     LUGAR  MES  ANIO   HORA  \\\n",
       "0   LEVE        AV MONFORTE DE LEMOS 12                     3  2018   9.56   \n",
       "1   GRAVE       AV RAMON Y CAJAL 72                         3  2018  11.33   \n",
       "2   GRAVE       SEGOVIA-TOLEDO                              3  2018   5.15   \n",
       "3   LEVE        AV MONFORTE DE LEMOS 17                     3  2018  10.12   \n",
       "4   LEVE        CIUDADANIA 6                                3  2018  14.22   \n",
       "5   LEVE        AV MONFORTE DE LEMOS 8                      3  2018  10.18   \n",
       "6   GRAVE       CL MELCHOR FERNANDEZ ALMAGRO 1              3  2018  10.45   \n",
       "7   LEVE        CL POETA JOAN MARAGALL 19 B                 3  2018  17.12   \n",
       "8   LEVE        CL VILLA DE MARIN 23                        3  2018  11.11   \n",
       "9   LEVE        CL VILLA DE MARIN 23                        3  2018  14.09   \n",
       "\n",
       "   IMP_BOL DESCUENTO  PUNTOS           DENUNCIANTE  \\\n",
       "0     90.0        SI       0  SER                    \n",
       "1    200.0        SI       0  POLICIA MUNICIPAL      \n",
       "2    200.0        SI       4  POLICIA MUNICIPAL      \n",
       "3     90.0        SI       0  SER                    \n",
       "4     90.0        SI       0  POLICIA MUNICIPAL      \n",
       "5     90.0        SI       0  SER                    \n",
       "6    200.0        SI       0  SER                    \n",
       "7     30.0        SI       0  SER                    \n",
       "8     60.0        SI       0  SER                    \n",
       "9     90.0        SI       0  SER                    \n",
       "\n",
       "                                           HECHO-BOL VEL_LIMITE VEL_CIRCULA  \\\n",
       "0  ESTACIONAR, SIN LA CORRESPONDIENTE AUTORIZACIÓ...                          \n",
       "1  ESTACIONAR EN CARRIL RESERVADO PARA USO, PARAD...                          \n",
       "2  REBASAR UN SEMÁFORO EN FASE ROJA.             ...                          \n",
       "3  ESTACIONAR, SIN LA CORRESPONDIENTE AUTORIZACIÓ...                          \n",
       "4  ESTACIONAR EN LUGAR PROHIBIDO DEBIDAMENTE SEÑA...                          \n",
       "5  ESTACIONAR, SIN LA CORRESPONDIENTE AUTORIZACIÓ...                          \n",
       "6  ESTACIONAR EN INTERSECCIÓN.                   ...                          \n",
       "7  ESTACIONAR CON AUTORIZACIÓN EN LUGAR HABILITAD...                          \n",
       "8  ESTACIONAR CON AUTORIZACIÓN NO VÁLIDA.        ...                          \n",
       "9  ESTACIONAR, SIN LA CORRESPONDIENTE AUTORIZACIÓ...                          \n",
       "\n",
       "  COORDENADA_X COORDENADA_Y  \n",
       "0                            \n",
       "1                            \n",
       "2                            \n",
       "3                            \n",
       "4                            \n",
       "5                            \n",
       "6                            \n",
       "7                            \n",
       "8                            \n",
       "9                            "
      ]
     },
     "execution_count": 4,
     "metadata": {},
     "output_type": "execute_result"
    }
   ],
   "source": [
    "import pandas as pd\n",
    "df = pd.read_csv('./201803_detalle.csv', sep=';', encoding = \"ISO-8859-1\")\n",
    "df.head(10)"
   ]
  },
  {
   "cell_type": "code",
   "execution_count": 5,
   "metadata": {
    "slideshow": {
     "slide_type": "slide"
    }
   },
   "outputs": [
    {
     "name": "stdout",
     "output_type": "stream",
     "text": [
      "Total de registros:    211,325\n",
      "   sin coordenadas:    157,615 -- 74%\n"
     ]
    }
   ],
   "source": [
    "import pandas as pd\n",
    "\n",
    "# cargo los datos en un dataframe de pandas\n",
    "df = pd.read_csv('./201803_detalle.csv', sep=';', \n",
    "                 encoding = \"ISO-8859-1\")\n",
    "\n",
    "# selecciono los registros sin coordenadas\n",
    "df_nc = df[df['COORDENADA_X'] == '           ']\n",
    "with_coords_perc = int(len(df_nc) / len(df) * 100)\n",
    "\n",
    "# muestro el resultado\n",
    "print('Total de registros:    {:,}'.format(len(df)))\n",
    "print('   sin coordenadas:    {:,} -- {}%'\n",
    "      .format(len(df_nc), with_coords_perc))"
   ]
  },
  {
   "cell_type": "markdown",
   "metadata": {
    "slideshow": {
     "slide_type": "slide"
    }
   },
   "source": [
    "### 2. ¡Truco! Agrupar las direcciones"
   ]
  },
  {
   "cell_type": "code",
   "execution_count": 8,
   "metadata": {
    "slideshow": {
     "slide_type": "-"
    }
   },
   "outputs": [
    {
     "name": "stdout",
     "output_type": "stream",
     "text": [
      "Tengo 32,745 direcciones únicas - 20% menos!\n"
     ]
    }
   ],
   "source": [
    "# número de direcciones únicas sin coordenadas\n",
    "uniq_address = len(df_nc.LUGAR.unique())\n",
    "\n",
    "# porcentaje de direcciones únicas frente al total\n",
    "uniq_perc = int(uniq_address / len(df_nc) * 100)\n",
    "\n",
    "print('Tengo {:,} direcciones únicas - {}% menos!'\n",
    "      .format(uniq_address, uniq_perc))"
   ]
  },
  {
   "cell_type": "markdown",
   "metadata": {
    "slideshow": {
     "slide_type": "slide"
    }
   },
   "source": [
    "### 3. Cálculos de cuotas en Google Maps"
   ]
  },
  {
   "cell_type": "code",
   "execution_count": 13,
   "metadata": {
    "slideshow": {
     "slide_type": "-"
    }
   },
   "outputs": [
    {
     "name": "stdout",
     "output_type": "stream",
     "text": [
      "Necesitaría 157615 peticiones / 64 días sin agrupar\n",
      "Necesitaría 32745 peticiones / 14 días si las agrupo\n",
      "\t(124870 peticiones / 50 días menos)\n"
     ]
    }
   ],
   "source": [
    "import math\n",
    "\n",
    "days_needed = math.ceil(len(df_nc) / 2500)\n",
    "print(f'Necesitaría {len(df_nc)} peticiones / '\n",
    "      f'{days_needed} días sin agrupar')\n",
    "\n",
    "new_days_needed = math.ceil(uniq_address / 2500)\n",
    "print(f'Necesitaría {uniq_address} peticiones / '\n",
    "      f'{new_days_needed} días si las agrupo')\n",
    "print(f'\\t({len(df_nc) - uniq_address} peticiones / '\n",
    "      f'{days_needed - new_days_needed} días menos)')"
   ]
  },
  {
   "cell_type": "markdown",
   "metadata": {},
   "source": [
    "### 4. Probando datos “en crudo”"
   ]
  },
  {
   "cell_type": "code",
   "execution_count": 14,
   "metadata": {
    "slideshow": {
     "slide_type": "slide"
    }
   },
   "outputs": [
    {
     "name": "stdout",
     "output_type": "stream",
     "text": [
      "10 resultados\n"
     ]
    }
   ],
   "source": [
    "import googlemaps\n",
    "from secrets import GOOGLE_MAPS_KEY\n",
    "\n",
    "gmaps = googlemaps.Client(key=GOOGLE_MAPS_KEY)\n",
    "\n",
    "address = 'AV RAMON Y CAJAL 72      '\n",
    "\n",
    "geocode_result = gmaps.geocode(address)\n",
    "print(f'{len(geocode_result)} resultados')"
   ]
  },
  {
   "cell_type": "code",
   "execution_count": 15,
   "metadata": {
    "slideshow": {
     "slide_type": "slide"
    }
   },
   "outputs": [
    {
     "name": "stdout",
     "output_type": "stream",
     "text": [
      "Ramón y Cajal Etorb., 72, 48014 Bilbo, Bizkaia, Spain\n",
      "Av. Ramón y Cajal, 72, 05480 Candeleda, Ávila, Spain\n",
      "Av. Ramón y Cajal, 72, 10612 Jerte, Cáceres, Spain\n",
      "Av. Ramón y Cajal, 72, 47230 Matapozuelos, Valladolid, Spain\n",
      "Av. Ramón y Cajal, 72, 13400 Almadén, Cdad. Real, Spain\n",
      "Av. Ramón y Cajal, 72, 46470 Catarroja, Valencia, Spain\n",
      "Av. Ramón y Cajal, 72, 30530 Cieza, Murcia, Spain\n",
      "Av. Ramon y Cajal, 72, 41658 Martín de la Jara, Sevilla, Spain\n",
      "Av. Ramón y Cajal, 72, 21720 Rociana del Condado, Huelva, Spain\n",
      "Av. Ramón y Cajal, 72, 46870 Ontinyent, Valencia, Spain\n"
     ]
    }
   ],
   "source": [
    "pretty_results = [result['formatted_address'] \n",
    "                  for result in geocode_result]\n",
    "print('\\n'.join(pretty_results))"
   ]
  },
  {
   "cell_type": "markdown",
   "metadata": {},
   "source": [
    "### 4. Preparar las direcciones"
   ]
  },
  {
   "cell_type": "markdown",
   "metadata": {
    "slideshow": {
     "slide_type": "slide"
    }
   },
   "source": [
    "Prepara la dirección para hacerselo \"más fácil\" al geocoder\n",
    "1. añado la ciudad (Madrid) y el país (Spain) a la dirección\n",
    "2. elimino los espacios en blanco innecesarios\n",
    "3. reemplazo los guiones bajos y \"SN\" por espacios en blanco"
   ]
  },
  {
   "cell_type": "code",
   "execution_count": 17,
   "metadata": {
    "slideshow": {
     "slide_type": "slide"
    }
   },
   "outputs": [
    {
     "name": "stdout",
     "output_type": "stream",
     "text": [
      "Geocoding -- AV RAMON Y CAJAL 72, Madrid, Spain\n"
     ]
    }
   ],
   "source": [
    "address = 'AV RAMON Y CAJAL 72'\n",
    "\n",
    "# elimina el texto \"conflictivo\"\n",
    "address = address.strip().replace('_', ' ').replace('SN', ' ')\n",
    "\n",
    "# añade la ciudad y el país\n",
    "address = '{}, Madrid, Spain'.format(address)\n",
    "print('Geocoding -- {}'.format(address))"
   ]
  },
  {
   "cell_type": "code",
   "execution_count": 18,
   "metadata": {},
   "outputs": [
    {
     "name": "stdout",
     "output_type": "stream",
     "text": [
      "1 resultados\n",
      "Av. de Ramón y Cajal, 72, 28002 Madrid, Spain\n"
     ]
    }
   ],
   "source": [
    "geocode_result = gmaps.geocode(address)\n",
    "result_count = len(geocode_result)\n",
    "print(f'{result_count} resultados')\n",
    "\n",
    "pretty_results = [result['formatted_address'] \n",
    "                  for result in geocode_result]\n",
    "print('\\n'.join(pretty_results))"
   ]
  },
  {
   "cell_type": "markdown",
   "metadata": {},
   "source": [
    "### 4. Lanzar el proceso"
   ]
  },
  {
   "cell_type": "code",
   "execution_count": 43,
   "metadata": {
    "slideshow": {
     "slide_type": "slide"
    }
   },
   "outputs": [
    {
     "name": "stdout",
     "output_type": "stream",
     "text": [
      "AV MONFORTE DE LEMOS 12, Madrid, Spain\n",
      "\t{'lat': 40.4797213, 'lng': -3.6960687}\n",
      "\n",
      "AV RAMON Y CAJAL 72, Madrid, Spain\n",
      "\t{'lat': 40.4522, 'lng': -3.66439}\n",
      "\n",
      "SEGOVIA-TOLEDO, Madrid, Spain\n",
      "\t{'lat': 40.416572, 'lng': -3.702082}\n",
      "\n",
      "AV MONFORTE DE LEMOS 17, Madrid, Spain\n",
      "\t{'lat': 40.4795744, 'lng': -3.6966646}\n",
      "\n",
      "CIUDADANIA 6, Madrid, Spain\n",
      "\t{'lat': 40.35638, 'lng': -3.69231}\n",
      "\n"
     ]
    }
   ],
   "source": [
    "for address in df_nc.LUGAR.unique()[:5]:\n",
    "    # formatea la dirección\n",
    "    address = '{}, Madrid, Spain'.format(address.strip()\n",
    "                                         .replace('_', ' ')\n",
    "                                         .replace('SN', ' '))\n",
    "    # llama al servicio de geocodificación\n",
    "    geocode_result = gmaps.geocode(address)\n",
    "    \n",
    "    # muestra el resultado\n",
    "    result = geocode_result[0]\n",
    "    print(f'{address}')\n",
    "    print(f\"\\t{result['geometry']['location']}\\n\")"
   ]
  },
  {
   "cell_type": "markdown",
   "metadata": {},
   "source": [
    "## Pruebas de geocoding con otras librerías\n",
    "(no incluído en las slides de la presentación)"
   ]
  },
  {
   "cell_type": "markdown",
   "metadata": {},
   "source": [
    "### [Geocoder](https://github.com/DenisCarriere/geocoder)"
   ]
  },
  {
   "cell_type": "markdown",
   "metadata": {},
   "source": [
    "Usando el geocoder de Google"
   ]
  },
  {
   "cell_type": "code",
   "execution_count": 69,
   "metadata": {},
   "outputs": [
    {
     "name": "stdout",
     "output_type": "stream",
     "text": [
      "AV MONFORTE DE LEMOS 12, Madrid, Spain -> None - None\n",
      "\n",
      "AV RAMON Y CAJAL 72, Madrid, Spain -> Av. de Ramón y Cajal, 72, 28002 Madrid, Spain - [40.4522, -3.66439]\n",
      "\n",
      "SEGOVIA-TOLEDO, Madrid, Spain -> 2º, Carrera de S. Jerónimo, 15, 28014 Madrid, Spain - [40.416572, -3.702082]\n",
      "\n",
      "AV MONFORTE DE LEMOS 17, Madrid, Spain -> None - None\n",
      "\n",
      "CIUDADANIA 6, Madrid, Spain -> None - None\n",
      "\n",
      "AV MONFORTE DE LEMOS 8, Madrid, Spain -> None - None\n",
      "\n",
      "CL MELCHOR FERNANDEZ ALMAGRO 1, Madrid, Spain -> None - None\n",
      "\n",
      "CL POETA JOAN MARAGALL 19 B, Madrid, Spain -> Calle del Poeta Joan Maragall, 19B, 28020 Madrid, Spain - [40.4572902, -3.6923661]\n",
      "\n",
      "CL VILLA DE MARIN 23, Madrid, Spain -> Calle Villa de Marin, 23, 28029 Madrid, Spain - [40.4765385, -3.7003378]\n",
      "\n",
      "CL PINTOR FRANCISCO LLORENS 2, Madrid, Spain -> None - None\n",
      "\n"
     ]
    }
   ],
   "source": [
    "import geocoder\n",
    "\n",
    "for address in df_nc.LUGAR.unique()[:10]:\n",
    "    address = '{}, Madrid, Spain'.format(address.strip().replace('_', ' ').replace('SN', ' '))\n",
    "    geocoder_result = geocoder.google(address)\n",
    "    print(f\"{address} -> {geocoder_result.address} - {geocoder_result.latlng}\\n\")"
   ]
  },
  {
   "cell_type": "markdown",
   "metadata": {},
   "source": [
    "Usando el geocoder de ArcGIS"
   ]
  },
  {
   "cell_type": "code",
   "execution_count": 70,
   "metadata": {},
   "outputs": [
    {
     "name": "stdout",
     "output_type": "stream",
     "text": [
      "AV MONFORTE DE LEMOS 12, Madrid, Spain -> Avenida de Monforte de Lemos 12, 28029, La Paz, Madrid, Comunidad de Madrid - [40.47964141271852, -3.696078850539554]\n",
      "\n",
      "AV RAMON Y CAJAL 72, Madrid, Spain -> Avenida de Ramón y Cajal 72, 28043, San Juan Bautista, Madrid, Comunidad de Madrid - [40.45310011070236, -3.66302383267301]\n",
      "\n",
      "SEGOVIA-TOLEDO, Madrid, Spain -> Toledo, Castilla-La Mancha - [39.79377747800004, -4.147973436999962]\n",
      "\n",
      "AV MONFORTE DE LEMOS 17, Madrid, Spain -> Avenida de Monforte de Lemos 17, 28029, La Paz, Madrid, Comunidad de Madrid - [40.479279539529266, -3.6963352559004865]\n",
      "\n",
      "CIUDADANIA 6, Madrid, Spain -> Calle de la Ciudadanía 6, 28041, Los Rosales, Madrid, Comunidad de Madrid - [40.356404528997686, -3.692240664723869]\n",
      "\n",
      "AV MONFORTE DE LEMOS 8, Madrid, Spain -> Avenida de Monforte de Lemos 8, 28029, La Paz, Madrid, Comunidad de Madrid - [40.47933541271853, -3.692928599082482]\n",
      "\n",
      "CL MELCHOR FERNANDEZ ALMAGRO 1, Madrid, Spain -> Calle de Melchor Fernández Almagro 1, 28029, La Paz, Madrid, Comunidad de Madrid - [40.477065601708205, -3.6909535911766165]\n",
      "\n",
      "CL POETA JOAN MARAGALL 19 B, Madrid, Spain -> Calle del Poeta Joan Maragall 19B, 28020, Castillejos, Madrid, Comunidad de Madrid - [40.45729754593455, -3.692198298516833]\n",
      "\n",
      "CL VILLA DE MARIN 23, Madrid, Spain -> Calle de la Villa de Marín 23, 28029, La Paz, Madrid, Comunidad de Madrid - [40.47686623786709, -3.6993655474637626]\n",
      "\n",
      "CL PINTOR FRANCISCO LLORENS 2, Madrid, Spain -> Calle de Francisco Zea, 28028, Guindalera, Madrid, Comunidad de Madrid - [40.434556499999985, -3.671167500000001]\n",
      "\n"
     ]
    }
   ],
   "source": [
    "for address in df_nc.LUGAR.unique()[:10]:\n",
    "    address = '{}, Madrid, Spain'.format(address.strip().replace('_', ' ').replace('SN', ' '))\n",
    "    geocoder_result = geocoder.arcgis(address)\n",
    "    print(f\"{address} -> {geocoder_result.address} - {geocoder_result.latlng}\\n\")"
   ]
  },
  {
   "cell_type": "markdown",
   "metadata": {},
   "source": [
    "Usando el geocoder de Open Street Maps"
   ]
  },
  {
   "cell_type": "code",
   "execution_count": 72,
   "metadata": {},
   "outputs": [
    {
     "name": "stdout",
     "output_type": "stream",
     "text": [
      "AV MONFORTE DE LEMOS 12, Madrid, Spain -> None - None\n",
      "\n",
      "AV RAMON Y CAJAL 72, Madrid, Spain -> Avenida Ramón y Cajal, Dehesa Boyal, San Sebastián de los Reyes, Área metropolitana de Madrid y Corredor del Henares, Comunidad de Madrid, 28108, España - [40.5420219, -3.6183706]\n",
      "\n",
      "SEGOVIA-TOLEDO, Madrid, Spain -> Ronda de Segovia - Pta. Toledo, Ronda de Segovia, Imperial, Centro, Madrid, Área metropolitana de Madrid y Corredor del Henares, Comunidad de Madrid, 28001, España - [40.4073078, -3.7130116]\n",
      "\n",
      "AV MONFORTE DE LEMOS 17, Madrid, Spain -> None - None\n",
      "\n",
      "CIUDADANIA 6, Madrid, Spain -> Calle de la Ciudadanía, El Espinillo, Villaverde, Madrid, Área metropolitana de Madrid y Corredor del Henares, Comunidad de Madrid, 28001, España - [40.3566265, -3.6910722]\n",
      "\n",
      "AV MONFORTE DE LEMOS 8, Madrid, Spain -> None - None\n",
      "\n",
      "CL MELCHOR FERNANDEZ ALMAGRO 1, Madrid, Spain -> None - None\n",
      "\n",
      "CL POETA JOAN MARAGALL 19 B, Madrid, Spain -> None - None\n",
      "\n",
      "CL VILLA DE MARIN 23, Madrid, Spain -> None - None\n",
      "\n",
      "CL PINTOR FRANCISCO LLORENS 2, Madrid, Spain -> Calle Pintor Francisco Llorens, Pilar, Fuencarral-El Pardo, Madrid, Área metropolitana de Madrid y Corredor del Henares, Comunidad de Madrid, 28001, España - [40.482803, -3.7088673]\n",
      "\n"
     ]
    }
   ],
   "source": [
    "for address in df_nc.LUGAR.unique()[:10]:\n",
    "    address = '{}, Madrid, Spain'.format(address.strip().replace('_', ' ').replace('SN', ' '))\n",
    "    geocoder_result = geocoder.osm(address)\n",
    "    print(f\"{address} -> {geocoder_result.address} - {geocoder_result.latlng}\\n\")"
   ]
  },
  {
   "cell_type": "markdown",
   "metadata": {},
   "source": [
    "## [Geopy](https://geopy.readthedocs.io/en/stable/)"
   ]
  },
  {
   "cell_type": "markdown",
   "metadata": {},
   "source": [
    "Usando el geocoder de Google"
   ]
  },
  {
   "cell_type": "code",
   "execution_count": 23,
   "metadata": {},
   "outputs": [
    {
     "name": "stdout",
     "output_type": "stream",
     "text": [
      "AV MONFORTE DE LEMOS 12, Madrid, Spain -> Av. de Monforte de Lemos, 12, 28029 Madrid, Spain - 40.4797213, -3.6960687\n",
      "\n",
      "AV RAMON Y CAJAL 72, Madrid, Spain -> Av. de Ramón y Cajal, 72, 28002 Madrid, Spain - 40.4522, -3.66439\n",
      "\n",
      "SEGOVIA-TOLEDO, Madrid, Spain -> 2º, Carrera de S. Jerónimo, 15, 28014 Madrid, Spain - 40.416572, -3.702082\n",
      "\n",
      "AV MONFORTE DE LEMOS 17, Madrid, Spain -> Av. de Monforte de Lemos, 17, 28029 Madrid, Spain - 40.4795744, -3.6966646\n",
      "\n",
      "CIUDADANIA 6, Madrid, Spain -> Calle Ciudadanía, 6, 28041 Madrid, Spain - 40.35638, -3.69231\n",
      "\n"
     ]
    },
    {
     "ename": "GeocoderQuotaExceeded",
     "evalue": "The given key has gone over the requests limit in the 24 hour period or has submitted too many requests in too short a period of time.",
     "output_type": "error",
     "traceback": [
      "\u001b[0;31m---------------------------------------------------------------------------\u001b[0m",
      "\u001b[0;31mGeocoderQuotaExceeded\u001b[0m                     Traceback (most recent call last)",
      "\u001b[0;32m<ipython-input-23-39b4ef805949>\u001b[0m in \u001b[0;36m<module>\u001b[0;34m()\u001b[0m\n\u001b[1;32m      4\u001b[0m \u001b[0;32mfor\u001b[0m \u001b[0maddress\u001b[0m \u001b[0;32min\u001b[0m \u001b[0mdf_nc\u001b[0m\u001b[0;34m.\u001b[0m\u001b[0mLUGAR\u001b[0m\u001b[0;34m.\u001b[0m\u001b[0munique\u001b[0m\u001b[0;34m(\u001b[0m\u001b[0;34m)\u001b[0m\u001b[0;34m[\u001b[0m\u001b[0;34m:\u001b[0m\u001b[0;36m10\u001b[0m\u001b[0;34m]\u001b[0m\u001b[0;34m:\u001b[0m\u001b[0;34m\u001b[0m\u001b[0m\n\u001b[1;32m      5\u001b[0m     \u001b[0maddress\u001b[0m \u001b[0;34m=\u001b[0m \u001b[0;34m'{}, Madrid, Spain'\u001b[0m\u001b[0;34m.\u001b[0m\u001b[0mformat\u001b[0m\u001b[0;34m(\u001b[0m\u001b[0maddress\u001b[0m\u001b[0;34m.\u001b[0m\u001b[0mstrip\u001b[0m\u001b[0;34m(\u001b[0m\u001b[0;34m)\u001b[0m\u001b[0;34m.\u001b[0m\u001b[0mreplace\u001b[0m\u001b[0;34m(\u001b[0m\u001b[0;34m'_'\u001b[0m\u001b[0;34m,\u001b[0m \u001b[0;34m' '\u001b[0m\u001b[0;34m)\u001b[0m\u001b[0;34m.\u001b[0m\u001b[0mreplace\u001b[0m\u001b[0;34m(\u001b[0m\u001b[0;34m'SN'\u001b[0m\u001b[0;34m,\u001b[0m \u001b[0;34m' '\u001b[0m\u001b[0;34m)\u001b[0m\u001b[0;34m)\u001b[0m\u001b[0;34m\u001b[0m\u001b[0m\n\u001b[0;32m----> 6\u001b[0;31m     \u001b[0mlocation\u001b[0m \u001b[0;34m=\u001b[0m \u001b[0mgeolocator\u001b[0m\u001b[0;34m.\u001b[0m\u001b[0mgeocode\u001b[0m\u001b[0;34m(\u001b[0m\u001b[0maddress\u001b[0m\u001b[0;34m)\u001b[0m\u001b[0;34m\u001b[0m\u001b[0m\n\u001b[0m\u001b[1;32m      7\u001b[0m     \u001b[0;32mif\u001b[0m \u001b[0mlocation\u001b[0m\u001b[0;34m:\u001b[0m\u001b[0;34m\u001b[0m\u001b[0m\n\u001b[1;32m      8\u001b[0m         \u001b[0mprint\u001b[0m\u001b[0;34m(\u001b[0m\u001b[0;34mf\"{address} -> {location.address} - {location.latitude}, {location.longitude}\\n\"\u001b[0m\u001b[0;34m)\u001b[0m\u001b[0;34m\u001b[0m\u001b[0m\n",
      "\u001b[0;32m~/.virtualenvs/openexpo-geocoding/lib/python3.6/site-packages/geopy/geocoders/googlev3.py\u001b[0m in \u001b[0;36mgeocode\u001b[0;34m(self, query, exactly_one, timeout, bounds, region, components, language, sensor)\u001b[0m\n\u001b[1;32m    246\u001b[0m         \u001b[0mlogger\u001b[0m\u001b[0;34m.\u001b[0m\u001b[0mdebug\u001b[0m\u001b[0;34m(\u001b[0m\u001b[0;34m\"%s.geocode: %s\"\u001b[0m\u001b[0;34m,\u001b[0m \u001b[0mself\u001b[0m\u001b[0;34m.\u001b[0m\u001b[0m__class__\u001b[0m\u001b[0;34m.\u001b[0m\u001b[0m__name__\u001b[0m\u001b[0;34m,\u001b[0m \u001b[0murl\u001b[0m\u001b[0;34m)\u001b[0m\u001b[0;34m\u001b[0m\u001b[0m\n\u001b[1;32m    247\u001b[0m         return self._parse_json(\n\u001b[0;32m--> 248\u001b[0;31m             \u001b[0mself\u001b[0m\u001b[0;34m.\u001b[0m\u001b[0m_call_geocoder\u001b[0m\u001b[0;34m(\u001b[0m\u001b[0murl\u001b[0m\u001b[0;34m,\u001b[0m \u001b[0mtimeout\u001b[0m\u001b[0;34m=\u001b[0m\u001b[0mtimeout\u001b[0m\u001b[0;34m)\u001b[0m\u001b[0;34m,\u001b[0m \u001b[0mexactly_one\u001b[0m\u001b[0;34m\u001b[0m\u001b[0m\n\u001b[0m\u001b[1;32m    249\u001b[0m         )\n\u001b[1;32m    250\u001b[0m \u001b[0;34m\u001b[0m\u001b[0m\n",
      "\u001b[0;32m~/.virtualenvs/openexpo-geocoding/lib/python3.6/site-packages/geopy/geocoders/googlev3.py\u001b[0m in \u001b[0;36m_parse_json\u001b[0;34m(self, page, exactly_one)\u001b[0m\n\u001b[1;32m    388\u001b[0m         \u001b[0mplaces\u001b[0m \u001b[0;34m=\u001b[0m \u001b[0mpage\u001b[0m\u001b[0;34m.\u001b[0m\u001b[0mget\u001b[0m\u001b[0;34m(\u001b[0m\u001b[0;34m'results'\u001b[0m\u001b[0;34m,\u001b[0m \u001b[0;34m[\u001b[0m\u001b[0;34m]\u001b[0m\u001b[0;34m)\u001b[0m\u001b[0;34m\u001b[0m\u001b[0m\n\u001b[1;32m    389\u001b[0m         \u001b[0;32mif\u001b[0m \u001b[0;32mnot\u001b[0m \u001b[0mlen\u001b[0m\u001b[0;34m(\u001b[0m\u001b[0mplaces\u001b[0m\u001b[0;34m)\u001b[0m\u001b[0;34m:\u001b[0m\u001b[0;34m\u001b[0m\u001b[0m\n\u001b[0;32m--> 390\u001b[0;31m             \u001b[0mself\u001b[0m\u001b[0;34m.\u001b[0m\u001b[0m_check_status\u001b[0m\u001b[0;34m(\u001b[0m\u001b[0mpage\u001b[0m\u001b[0;34m.\u001b[0m\u001b[0mget\u001b[0m\u001b[0;34m(\u001b[0m\u001b[0;34m'status'\u001b[0m\u001b[0;34m)\u001b[0m\u001b[0;34m)\u001b[0m\u001b[0;34m\u001b[0m\u001b[0m\n\u001b[0m\u001b[1;32m    391\u001b[0m             \u001b[0;32mreturn\u001b[0m \u001b[0;32mNone\u001b[0m\u001b[0;34m\u001b[0m\u001b[0m\n\u001b[1;32m    392\u001b[0m \u001b[0;34m\u001b[0m\u001b[0m\n",
      "\u001b[0;32m~/.virtualenvs/openexpo-geocoding/lib/python3.6/site-packages/geopy/geocoders/googlev3.py\u001b[0m in \u001b[0;36m_check_status\u001b[0;34m(status)\u001b[0m\n\u001b[1;32m    413\u001b[0m         \u001b[0;32mif\u001b[0m \u001b[0mstatus\u001b[0m \u001b[0;34m==\u001b[0m \u001b[0;34m'OVER_QUERY_LIMIT'\u001b[0m\u001b[0;34m:\u001b[0m\u001b[0;34m\u001b[0m\u001b[0m\n\u001b[1;32m    414\u001b[0m             raise GeocoderQuotaExceeded(\n\u001b[0;32m--> 415\u001b[0;31m                 \u001b[0;34m'The given key has gone over the requests limit in the 24'\u001b[0m\u001b[0;34m\u001b[0m\u001b[0m\n\u001b[0m\u001b[1;32m    416\u001b[0m                 \u001b[0;34m' hour period or has submitted too many requests in too'\u001b[0m\u001b[0;34m\u001b[0m\u001b[0m\n\u001b[1;32m    417\u001b[0m                 \u001b[0;34m' short a period of time.'\u001b[0m\u001b[0;34m\u001b[0m\u001b[0m\n",
      "\u001b[0;31mGeocoderQuotaExceeded\u001b[0m: The given key has gone over the requests limit in the 24 hour period or has submitted too many requests in too short a period of time."
     ]
    }
   ],
   "source": [
    "from geopy.geocoders import GoogleV3\n",
    "geolocator = GoogleV3()\n",
    "\n",
    "for address in df_nc.LUGAR.unique()[:10]:\n",
    "    address = '{}, Madrid, Spain'.format(address.strip().replace('_', ' ').replace('SN', ' '))\n",
    "    location = geolocator.geocode(address)\n",
    "    if location:\n",
    "        print(f\"{address} -> {location.address} - {location.latitude}, {location.longitude}\\n\")\n",
    "    else:\n",
    "        print(f\"{address} -> Not found\\n\")"
   ]
  },
  {
   "cell_type": "markdown",
   "metadata": {},
   "source": [
    "Usando el geocoder de ArcGIS"
   ]
  },
  {
   "cell_type": "code",
   "execution_count": 24,
   "metadata": {},
   "outputs": [
    {
     "name": "stdout",
     "output_type": "stream",
     "text": [
      "AV MONFORTE DE LEMOS 12, Madrid, Spain -> Avenida de Monforte de Lemos 12, 28029, La Paz, Madrid, Comunidad de Madrid - 40.47964141271852, -3.696078850539554\n",
      "\n",
      "AV RAMON Y CAJAL 72, Madrid, Spain -> Avenida de Ramón y Cajal 72, 28043, San Juan Bautista, Madrid, Comunidad de Madrid - 40.45310011070236, -3.66302383267301\n",
      "\n",
      "SEGOVIA-TOLEDO, Madrid, Spain -> Toledo, Castilla-La Mancha - 39.79377747800004, -4.147973436999962\n",
      "\n",
      "AV MONFORTE DE LEMOS 17, Madrid, Spain -> Avenida de Monforte de Lemos 17, 28029, La Paz, Madrid, Comunidad de Madrid - 40.479279539529266, -3.6963352559004865\n",
      "\n",
      "CIUDADANIA 6, Madrid, Spain -> Calle de la Ciudadanía 6, 28041, Los Rosales, Madrid, Comunidad de Madrid - 40.356404528997686, -3.692240664723869\n",
      "\n",
      "AV MONFORTE DE LEMOS 8, Madrid, Spain -> Avenida de Monforte de Lemos 8, 28029, La Paz, Madrid, Comunidad de Madrid - 40.47933541271853, -3.692928599082482\n",
      "\n",
      "CL MELCHOR FERNANDEZ ALMAGRO 1, Madrid, Spain -> Calle de Melchor Fernández Almagro 1, 28029, La Paz, Madrid, Comunidad de Madrid - 40.477065601708205, -3.6909535911766165\n",
      "\n",
      "CL POETA JOAN MARAGALL 19 B, Madrid, Spain -> Calle del Poeta Joan Maragall 19B, 28020, Castillejos, Madrid, Comunidad de Madrid - 40.45729754593455, -3.692198298516833\n",
      "\n",
      "CL VILLA DE MARIN 23, Madrid, Spain -> Calle de la Villa de Marín 23, 28029, La Paz, Madrid, Comunidad de Madrid - 40.47686623786709, -3.6993655474637626\n",
      "\n",
      "CL PINTOR FRANCISCO LLORENS 2, Madrid, Spain -> Calle de Francisco Zea, 28028, Guindalera, Madrid, Comunidad de Madrid - 40.434556499999985, -3.671167500000001\n",
      "\n"
     ]
    }
   ],
   "source": [
    "from geopy.geocoders import ArcGIS\n",
    "geolocator = ArcGIS()\n",
    "\n",
    "for address in df_nc.LUGAR.unique()[:10]:\n",
    "    address = '{}, Madrid, Spain'.format(address.strip().replace('_', ' ').replace('SN', ' '))\n",
    "    location = geolocator.geocode(address)\n",
    "    if location:\n",
    "        print(f\"{address} -> {location.address} - {location.latitude}, {location.longitude}\\n\")\n",
    "    else:\n",
    "        print(f\"{address} -> Not found\\n\")"
   ]
  },
  {
   "cell_type": "markdown",
   "metadata": {},
   "source": [
    "Usando el geocoder de Open Street Maps (Nominatim)"
   ]
  },
  {
   "cell_type": "code",
   "execution_count": 22,
   "metadata": {},
   "outputs": [
    {
     "name": "stdout",
     "output_type": "stream",
     "text": [
      "AV MONFORTE DE LEMOS 12, Madrid, Spain -> Not found\n",
      "\n",
      "AV RAMON Y CAJAL 72, Madrid, Spain -> Avenida Ramón y Cajal, Dehesa Boyal, San Sebastián de los Reyes, Área metropolitana de Madrid y Corredor del Henares, Comunidad de Madrid, 28108, España - 40.5420219, -3.6183706\n",
      "\n",
      "SEGOVIA-TOLEDO, Madrid, Spain -> Ronda de Segovia - Pta. Toledo, Ronda de Segovia, Imperial, Centro, Madrid, Área metropolitana de Madrid y Corredor del Henares, Comunidad de Madrid, 28001, España - 40.4073078, -3.7130116\n",
      "\n",
      "AV MONFORTE DE LEMOS 17, Madrid, Spain -> Not found\n",
      "\n",
      "CIUDADANIA 6, Madrid, Spain -> Calle de la Ciudadanía, El Espinillo, Villaverde, Madrid, Área metropolitana de Madrid y Corredor del Henares, Comunidad de Madrid, 28001, España - 40.3566265, -3.6910722\n",
      "\n",
      "AV MONFORTE DE LEMOS 8, Madrid, Spain -> Not found\n",
      "\n",
      "CL MELCHOR FERNANDEZ ALMAGRO 1, Madrid, Spain -> Not found\n",
      "\n",
      "CL POETA JOAN MARAGALL 19 B, Madrid, Spain -> Not found\n",
      "\n",
      "CL VILLA DE MARIN 23, Madrid, Spain -> Not found\n",
      "\n",
      "CL PINTOR FRANCISCO LLORENS 2, Madrid, Spain -> Calle Pintor Francisco Llorens, Pilar, Fuencarral-El Pardo, Madrid, Área metropolitana de Madrid y Corredor del Henares, Comunidad de Madrid, 28001, España - 40.482803, -3.7088673\n",
      "\n"
     ]
    }
   ],
   "source": [
    "from geopy.geocoders import Nominatim\n",
    "geolocator = Nominatim()\n",
    "\n",
    "for address in df_nc.LUGAR.unique()[:10]:\n",
    "    address = '{}, Madrid, Spain'.format(address.strip().replace('_', ' ').replace('SN', ' '))\n",
    "    location = geolocator.geocode(address)\n",
    "    if location:\n",
    "        print(f\"{address} -> {location.address} - {location.latitude}, {location.longitude}\\n\")\n",
    "    else:\n",
    "        print(f\"{address} -> Not found\\n\")"
   ]
  }
 ],
 "metadata": {
  "kernelspec": {
   "display_name": "Python 3",
   "language": "python",
   "name": "python3"
  },
  "language_info": {
   "codemirror_mode": {
    "name": "ipython",
    "version": 3
   },
   "file_extension": ".py",
   "mimetype": "text/x-python",
   "name": "python",
   "nbconvert_exporter": "python",
   "pygments_lexer": "ipython3",
   "version": "3.6.3"
  }
 },
 "nbformat": 4,
 "nbformat_minor": 2
}
